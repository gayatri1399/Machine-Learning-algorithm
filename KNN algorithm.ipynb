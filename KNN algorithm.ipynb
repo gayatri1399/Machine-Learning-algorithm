{
 "cells": [
  {
   "cell_type": "markdown",
   "id": "ffa0f75a",
   "metadata": {},
   "source": [
    "### K-Nearest Neighborhood\n",
    "KNN was born out of research done for the armed forces. Fix and Hodge - two officers of USAF School of Aviation Medicine - wrote a technical report in 1951 introducing the KNN algorithm.\n",
    "\n",
    "KNN can be used in both Regression and Classification predictive problems. However, it’s mostly used in classification since it fairs across all parameters evaluated when determining the usability of a technique Prediction Power Calculation Time\n",
    "\n",
    "It is used due to its ease of interpretation and low calculation time."
   ]
  },
  {
   "cell_type": "markdown",
   "id": "234d1bf9",
   "metadata": {},
   "source": [
    "Companies like Amazon or Netflix use KNN when recommending books to buy or movies to watch.\n",
    "\n",
    "How do these companies make recommendations?\n",
    "\n",
    "Well, these companies gather data on the books you have read or movies you have watched on their website and apply KNN. The companies will input your available customer data and compare that to other customers who have purchased similar books or have watched similar movies.\n",
    "\n",
    "The books and movies recommended depending on how the algorithm classifies that data point."
   ]
  },
  {
   "cell_type": "markdown",
   "id": "38bc2f2a",
   "metadata": {},
   "source": [
    "### How does KNN works?\n",
    "The k-nearest neighbor algorithm stores all the available data and classifies a new data point based on the similarity measure (e.g., distance functions). This means when new data appears. Then it can be easily classified into a well-suited category by using K-NN algorithm."
   ]
  },
  {
   "cell_type": "markdown",
   "id": "8a245c42",
   "metadata": {},
   "source": [
    "Suppose there are two classes,\n",
    "\n",
    "i.e., Class A and Class B,\n",
    "\n",
    "and we have a new unknown data point “?”,\n",
    "\n",
    "so this data point will lie in which of these classes. To solve this problem, we need a K-NN algorithm. The data point is classified by a majority vote of its neighbors, with the data point being assigned to the class most common amongst its K nearest neighbors measured by a distance function.\n",
    "\n",
    "Here, we can see that if k = 3, then based on the distance function used, the nearest three neighbors of the data point is found and based on the majority votes of its neighbors, the data point is classified into a class.\n",
    "\n",
    "In the case of k = 3, for the above diagram, it's Class B.\n",
    "\n",
    "Similarly, when k = 7, for the above diagram, based on the majority votes of its neighbors, the data point is classified to Class A."
   ]
  },
  {
   "cell_type": "markdown",
   "id": "5085b5b9",
   "metadata": {},
   "source": [
    "### K-Nearest Neighbors\n",
    "KNN algorithm applies the birds of a feather. It assumes that similar things are near to each other; that is, they are nearby.\n",
    "\n",
    "The idea of similarity (sometimes called closeness, proximity, or distance).\n",
    "\n",
    "Euclidean distance or straight-line distance is a popular and familiar choice of calculating distance."
   ]
  },
  {
   "cell_type": "markdown",
   "id": "112753c3",
   "metadata": {},
   "source": [
    "### Choosing the right value for K\n",
    "To get the right K, you should run the KNN algorithm several times with different values of K and select the one that has the least number of errors.\n",
    "-As K approaches 1, your prediction becomes less stable.\n",
    "\n",
    "-As your value of K increases, your prediction becomes more stable due to the majority of voters.\n",
    "\n",
    "-When you start receiving an increasing number of errors, you should know you are pushing your K too far.\n",
    "\n",
    "-Taking a majority vote among labels needs K to be an odd number to have a tiebreaker. -"
   ]
  },
  {
   "cell_type": "markdown",
   "id": "82f539f8",
   "metadata": {},
   "source": [
    "### Working of KNN Algorithm in Machine\n",
    "Step 1 – When implementing an algorithm, you will always need a data set. So, you start by loading the training and the test data.\n",
    "\n",
    "Step 2 – Choose the nearest data points (the value of K). K can be any integer.\n",
    "Step 3:\n",
    "\n",
    "3.1 – Use Euclidean distance, Hamming, or Manhattan to calculate the distance between test data and each row of training. The Euclidean method is the most used when calculating distance.\n",
    "\n",
    "3.2 – Sort data set in ascending order based on the distance value.\n",
    "\n",
    "3.3 – From the sorted array, choose the top K rows.\n",
    "\n",
    "3.4 – Based on the most appearing class of these rows, it will assign a class to the test point.\n",
    "\n",
    "Step 4 – End"
   ]
  },
  {
   "cell_type": "markdown",
   "id": "3811c2c4",
   "metadata": {},
   "source": [
    "### Advantages of KNN\n",
    "1. Quick calculation time\n",
    "2. Simple algorithm – to interpret\n",
    "3. Versatile – useful for regression and classification\n",
    "4. High accuracy – you do not need to compare with better-supervised learning models\n",
    "5. No assumptions about data – no need to make additional assumptions, tune several parameters, or build a model. This makes it crucial in nonlinear data case."
   ]
  },
  {
   "cell_type": "markdown",
   "id": "67299d42",
   "metadata": {},
   "source": [
    "### Disadvantages of KNN\n",
    "1. Accuracy depends on the quality of the data\n",
    "2. With large data, the prediction stage might be slow\n",
    "3. Sensitive to the scale of the data and irrelevant features\n",
    "4. Require high memory – need to store all of the training data\n",
    "5. Given that it stores all of the training, it can be computationally expensive"
   ]
  },
  {
   "cell_type": "code",
   "execution_count": 1,
   "id": "5053ef62",
   "metadata": {},
   "outputs": [],
   "source": [
    "#import the library\n",
    "import numpy as np\n",
    "import pandas as pd"
   ]
  },
  {
   "cell_type": "code",
   "execution_count": 2,
   "id": "0f660c7c",
   "metadata": {},
   "outputs": [
    {
     "data": {
      "text/html": [
       "<div>\n",
       "<style scoped>\n",
       "    .dataframe tbody tr th:only-of-type {\n",
       "        vertical-align: middle;\n",
       "    }\n",
       "\n",
       "    .dataframe tbody tr th {\n",
       "        vertical-align: top;\n",
       "    }\n",
       "\n",
       "    .dataframe thead th {\n",
       "        text-align: right;\n",
       "    }\n",
       "</style>\n",
       "<table border=\"1\" class=\"dataframe\">\n",
       "  <thead>\n",
       "    <tr style=\"text-align: right;\">\n",
       "      <th></th>\n",
       "      <th>SepalLengthCm</th>\n",
       "      <th>SepalWidthCm</th>\n",
       "      <th>PetalLengthCm</th>\n",
       "      <th>PetalWidthCm</th>\n",
       "      <th>Species</th>\n",
       "    </tr>\n",
       "  </thead>\n",
       "  <tbody>\n",
       "    <tr>\n",
       "      <th>0</th>\n",
       "      <td>5.1</td>\n",
       "      <td>3.5</td>\n",
       "      <td>1.4</td>\n",
       "      <td>0.2</td>\n",
       "      <td>Iris-setosa</td>\n",
       "    </tr>\n",
       "    <tr>\n",
       "      <th>1</th>\n",
       "      <td>4.9</td>\n",
       "      <td>3.0</td>\n",
       "      <td>1.4</td>\n",
       "      <td>0.2</td>\n",
       "      <td>Iris-setosa</td>\n",
       "    </tr>\n",
       "    <tr>\n",
       "      <th>2</th>\n",
       "      <td>4.7</td>\n",
       "      <td>3.2</td>\n",
       "      <td>1.3</td>\n",
       "      <td>0.2</td>\n",
       "      <td>Iris-setosa</td>\n",
       "    </tr>\n",
       "    <tr>\n",
       "      <th>3</th>\n",
       "      <td>4.6</td>\n",
       "      <td>3.1</td>\n",
       "      <td>1.5</td>\n",
       "      <td>0.2</td>\n",
       "      <td>Iris-setosa</td>\n",
       "    </tr>\n",
       "    <tr>\n",
       "      <th>4</th>\n",
       "      <td>5.0</td>\n",
       "      <td>3.6</td>\n",
       "      <td>1.4</td>\n",
       "      <td>0.2</td>\n",
       "      <td>Iris-setosa</td>\n",
       "    </tr>\n",
       "  </tbody>\n",
       "</table>\n",
       "</div>"
      ],
      "text/plain": [
       "   SepalLengthCm  SepalWidthCm  PetalLengthCm  PetalWidthCm      Species\n",
       "0            5.1           3.5            1.4           0.2  Iris-setosa\n",
       "1            4.9           3.0            1.4           0.2  Iris-setosa\n",
       "2            4.7           3.2            1.3           0.2  Iris-setosa\n",
       "3            4.6           3.1            1.5           0.2  Iris-setosa\n",
       "4            5.0           3.6            1.4           0.2  Iris-setosa"
      ]
     },
     "execution_count": 2,
     "metadata": {},
     "output_type": "execute_result"
    }
   ],
   "source": [
    "iris=pd.read_csv(\"Iris.csv\")\n",
    "iris=iris.iloc[:,1:]\n",
    "iris.head()"
   ]
  },
  {
   "cell_type": "code",
   "execution_count": 3,
   "id": "2ba8e34a",
   "metadata": {},
   "outputs": [],
   "source": [
    "X=iris.iloc[:,0:4] # features\n",
    "Y=iris.iloc[:,4] # Labels"
   ]
  },
  {
   "cell_type": "code",
   "execution_count": 4,
   "id": "771d6f58",
   "metadata": {},
   "outputs": [],
   "source": [
    "#label encoding\n",
    "from sklearn.preprocessing import LabelEncoder\n",
    "LE=LabelEncoder()\n",
    "Y=LE.fit_transform(Y)"
   ]
  },
  {
   "cell_type": "code",
   "execution_count": 5,
   "id": "9f48e6e0",
   "metadata": {},
   "outputs": [],
   "source": [
    "#Split the data into train and test part\n",
    "from sklearn.model_selection import train_test_split\n",
    "x_train, x_test, y_train, y_test = train_test_split(X, Y, test_size=0.33)"
   ]
  },
  {
   "cell_type": "code",
   "execution_count": 6,
   "id": "d8984cc5",
   "metadata": {},
   "outputs": [
    {
     "data": {
      "text/plain": [
       "KNeighborsClassifier(n_neighbors=3)"
      ]
     },
     "execution_count": 6,
     "metadata": {},
     "output_type": "execute_result"
    }
   ],
   "source": [
    "# create and train the model\n",
    "from sklearn.neighbors import KNeighborsClassifier\n",
    "classifier=KNeighborsClassifier(n_neighbors=3)\n",
    "classifier.fit(x_train,y_train)"
   ]
  },
  {
   "cell_type": "code",
   "execution_count": 7,
   "id": "2c4292e2",
   "metadata": {},
   "outputs": [],
   "source": [
    "y_pred=classifier.predict(x_test)"
   ]
  },
  {
   "cell_type": "code",
   "execution_count": 8,
   "id": "553d855d",
   "metadata": {},
   "outputs": [
    {
     "name": "stdout",
     "output_type": "stream",
     "text": [
      "Accuracy of the model is  96.0 %\n"
     ]
    }
   ],
   "source": [
    "from sklearn.metrics import confusion_matrix, accuracy_score\n",
    "\n",
    "cm=confusion_matrix(y_test,y_pred)\n",
    "cm\n",
    "\n",
    "print(\"Accuracy of the model is \",accuracy_score(y_test,y_pred)*100,\"%\")"
   ]
  },
  {
   "cell_type": "code",
   "execution_count": 9,
   "id": "df550608",
   "metadata": {},
   "outputs": [],
   "source": [
    "# Evaluate alternative K-values for better predictions\n",
    "k_list=list(range(1,50,2))\n",
    "acc_score=[]\n",
    "err_rate=[]\n",
    "for x in k_list:\n",
    "    classifier=KNeighborsClassifier(n_neighbors=x)\n",
    "    classifier.fit(x_train,y_train)\n",
    "    y_pred=classifier.predict(x_test)\n",
    "    acc_score.append(accuracy_score(y_test,y_pred))\n",
    "    err_rate.append(1-accuracy_score(y_test,y_pred))"
   ]
  },
  {
   "cell_type": "code",
   "execution_count": 10,
   "id": "a67c87be",
   "metadata": {},
   "outputs": [
    {
     "name": "stdout",
     "output_type": "stream",
     "text": [
      "best k: 3\n"
     ]
    },
    {
     "data": {
      "text/plain": [
       "0.96"
      ]
     },
     "execution_count": 10,
     "metadata": {},
     "output_type": "execute_result"
    }
   ],
   "source": [
    "# plot error rate\n",
    "print(\"best k:\",k_list[err_rate.index(min(err_rate))])\n",
    "\n",
    "acc_score[5]"
   ]
  },
  {
   "cell_type": "code",
   "execution_count": 11,
   "id": "bc907455",
   "metadata": {},
   "outputs": [
    {
     "name": "stdout",
     "output_type": "stream",
     "text": [
      "Accuracy of the model is  0.94 %\n",
      "Error rate of the model is  0.06 %\n"
     ]
    }
   ],
   "source": [
    "# Adjust K value per error rate evaluations\n",
    "classifier=KNeighborsClassifier(n_neighbors=9)\n",
    "classifier.fit(x_train,y_train)\n",
    "y_pred=classifier.predict(x_test)\n",
    "print(\"Accuracy of the model is \",accuracy_score(y_test,y_pred),\"%\")\n",
    "print(\"Error rate of the model is \",round(1-accuracy_score(y_test,y_pred),2),\"%\")"
   ]
  },
  {
   "cell_type": "code",
   "execution_count": null,
   "id": "1b4f6d5e",
   "metadata": {},
   "outputs": [],
   "source": []
  }
 ],
 "metadata": {
  "kernelspec": {
   "display_name": "Python 3",
   "language": "python",
   "name": "python3"
  },
  "language_info": {
   "codemirror_mode": {
    "name": "ipython",
    "version": 3
   },
   "file_extension": ".py",
   "mimetype": "text/x-python",
   "name": "python",
   "nbconvert_exporter": "python",
   "pygments_lexer": "ipython3",
   "version": "3.9.5"
  }
 },
 "nbformat": 4,
 "nbformat_minor": 5
}
